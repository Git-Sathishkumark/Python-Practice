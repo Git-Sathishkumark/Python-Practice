{
 "cells": [
  {
   "cell_type": "markdown",
   "id": "92c8fed6-2e10-4654-8b53-ea70b6964b46",
   "metadata": {},
   "source": [
    "Problem: Remove Duplicates from a List\n",
    "\n",
    "Objective:\n",
    "Write a Python function to remove duplicate elements from a list while maintaining the order of the first occurrences.\n",
    "\n",
    "Input:\n",
    "\n",
    "A list lst which may contain duplicate elements.\n",
    "Output:\n",
    "\n",
    "A new list with duplicates removed, preserving the order of the first occurrences of each element.\n",
    "\n",
    "remove_duplicates([1, 2, 2, 3, 4, 4, 5])    # Output: [1, 2, 3, 4, 5]\n",
    "\n",
    "remove_duplicates([5, 5, 5, 5, 5])          # Output: [5]\n",
    "\n",
    "remove_duplicates([1, 2, 3, 1, 2, 3])       # Output: [1, 2, 3]\n",
    "\n",
    "remove_duplicates([])                        # Output: []\n",
    "\n",
    "remove_duplicates([1, 2, 3, 4])              # Output: [1, 2, 3, 4]\n",
    "\n",
    "Hints:\n",
    "\n",
    "Use a Set: Utilize a set to keep track of seen elements.\n",
    "\n",
    "Maintain Order: Iterate through the list while maintaining the order of first occurrences."
   ]
  },
  {
   "cell_type": "code",
   "execution_count": 3,
   "id": "77f360a4-7069-49cc-a451-283d2bb63e6d",
   "metadata": {},
   "outputs": [],
   "source": [
    "def remove_duplicates(lst: list) -> list:\n",
    "\n",
    "    seen = set()\n",
    "    result = []\n",
    "\n",
    "    for num in lst:\n",
    "        if num not in seen:\n",
    "            seen.add(num)\n",
    "            result.append(num)\n",
    "\n",
    "    return result"
   ]
  },
  {
   "cell_type": "code",
   "execution_count": 4,
   "id": "6b9a85f8-12a9-4f84-b023-2e0e54f6da4e",
   "metadata": {},
   "outputs": [
    {
     "name": "stdout",
     "output_type": "stream",
     "text": [
      "[1, 2, 3, 4, 5]\n",
      "[5]\n",
      "[1, 2, 3]\n",
      "[]\n",
      "[1, 2, 3, 4]\n"
     ]
    }
   ],
   "source": [
    "print(remove_duplicates([1, 2, 2, 3, 4, 4, 5]))\n",
    "print(remove_duplicates([5, 5, 5, 5, 5])) \n",
    "print(remove_duplicates([1, 2, 3, 1, 2, 3])) \n",
    "print(remove_duplicates([])) \n",
    "print(remove_duplicates([1, 2, 3, 4]))"
   ]
  },
  {
   "cell_type": "code",
   "execution_count": null,
   "id": "6db18ed4-859f-401a-9c26-1dbc40a11bf9",
   "metadata": {},
   "outputs": [],
   "source": []
  }
 ],
 "metadata": {
  "kernelspec": {
   "display_name": "Python 3 (ipykernel)",
   "language": "python",
   "name": "python3"
  },
  "language_info": {
   "codemirror_mode": {
    "name": "ipython",
    "version": 3
   },
   "file_extension": ".py",
   "mimetype": "text/x-python",
   "name": "python",
   "nbconvert_exporter": "python",
   "pygments_lexer": "ipython3",
   "version": "3.12.4"
  }
 },
 "nbformat": 4,
 "nbformat_minor": 5
}
