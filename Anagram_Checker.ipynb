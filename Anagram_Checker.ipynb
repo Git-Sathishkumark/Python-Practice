{
 "cells": [
  {
   "cell_type": "markdown",
   "id": "bb5cbe2f-9928-4c9a-bff5-4efb26a59c08",
   "metadata": {},
   "source": [
    "Problem: Anagram Checker\n",
    "\n",
    "\n",
    "Objective:\n",
    "Write a Python function to check if two given strings are anagrams of each other. Two strings are anagrams if they contain the same characters in the same frequencies, but possibly in a different order.\n",
    "\n",
    "Input:\n",
    "\n",
    "Two strings, str1 and str2, containing only lowercase alphabets.\n",
    "Output:\n",
    "\n",
    "Return True if str1 and str2 are anagrams of each other; otherwise, return False.\n",
    "\n",
    "Examples:\n",
    "\n",
    "are_anagrams(\"listen\", \"silent\")  # Output: True\n",
    "\n",
    "are_anagrams(\"hello\", \"world\")    # Output: Fals\n",
    "\n",
    "Hints:\n",
    "\n",
    "You can use Python's built-in functions to sort the strings and compare them.\n",
    "\n",
    "Another approach is to use dictionaries to count the frequency of each character.\n",
    "\n",
    "Challenge:\n",
    "Try solving this problem using both methods mentioned in the hints.\n"
   ]
  },
  {
   "cell_type": "code",
   "execution_count": 5,
   "id": "a170aa5a-cae7-4f81-87b9-1d8c06aa3049",
   "metadata": {},
   "outputs": [],
   "source": [
    "def bubble_sort(s : str) -> str:\n",
    "    char_list = list(s)\n",
    "    n = len(char_list)\n",
    "    for i in range(n):\n",
    "        for j in range(0, n - i - 1):\n",
    "            if char_list[j] > char_list[j+1]:\n",
    "                char_list[j], char_list[j+1] = char_list[j+1], char_list[j]\n",
    "    return ''.join(char_list)\n",
    "    \n",
    "def are_anagrams1(str1: str, str2: str) -> bool:\n",
    "    \n",
    "    return bubble_sort(str1) == bubble_sort(str2)"
   ]
  },
  {
   "cell_type": "code",
   "execution_count": 6,
   "id": "01c3acfd-b7fc-4d02-bb38-a6526b1d50b1",
   "metadata": {},
   "outputs": [
    {
     "name": "stdout",
     "output_type": "stream",
     "text": [
      "False\n",
      "True\n"
     ]
    }
   ],
   "source": [
    "print(are_anagrams1(\"hello\", \"world\"))\n",
    "print(are_anagrams1(\"listen\", \"silent\"))"
   ]
  },
  {
   "cell_type": "code",
   "execution_count": 10,
   "id": "b251d4f2-42a5-462c-8e09-38e68907ec6e",
   "metadata": {},
   "outputs": [],
   "source": [
    "def are_anagrams2(str1: str, str2: str) -> bool:\n",
    "    if len(str1) != len(str2):\n",
    "        return False\n",
    "\n",
    "    dic_str1 = {}\n",
    "    dic_str2 = {}\n",
    "\n",
    "    for char in str1:\n",
    "        if char in dic_str1:\n",
    "            dic_str1[char] += 1\n",
    "        else:\n",
    "            dic_str1[char] = 1\n",
    "\n",
    "    for char in str2:\n",
    "        if char in dic_str2:\n",
    "            dic_str2[char] += 1\n",
    "        else:\n",
    "            dic_str2[char] = 1\n",
    "\n",
    "    return dic_str1 == dic_str2"
   ]
  },
  {
   "cell_type": "code",
   "execution_count": 11,
   "id": "55c445b9-1a2c-4f84-9504-dffb8ef3c2bd",
   "metadata": {},
   "outputs": [
    {
     "name": "stdout",
     "output_type": "stream",
     "text": [
      "False\n",
      "True\n"
     ]
    }
   ],
   "source": [
    "print(are_anagrams2(\"hello\", \"world\"))\n",
    "print(are_anagrams2(\"listen\", \"silent\"))"
   ]
  },
  {
   "cell_type": "code",
   "execution_count": null,
   "id": "c9c0d4f1-f85e-4446-87a9-21cfa8fa7aca",
   "metadata": {},
   "outputs": [],
   "source": []
  }
 ],
 "metadata": {
  "kernelspec": {
   "display_name": "Python 3 (ipykernel)",
   "language": "python",
   "name": "python3"
  },
  "language_info": {
   "codemirror_mode": {
    "name": "ipython",
    "version": 3
   },
   "file_extension": ".py",
   "mimetype": "text/x-python",
   "name": "python",
   "nbconvert_exporter": "python",
   "pygments_lexer": "ipython3",
   "version": "3.12.4"
  }
 },
 "nbformat": 4,
 "nbformat_minor": 5
}
