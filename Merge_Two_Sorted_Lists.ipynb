{
 "cells": [
  {
   "cell_type": "markdown",
   "id": "31250c90-e4c1-4517-bfec-68886aaaa750",
   "metadata": {},
   "source": [
    "Problem: Merge Two Sorted Lists\n",
    "\n",
    "Objective:\n",
    "\n",
    "Write a Python function to merge two sorted lists into a single sorted list. \n",
    "The function should take two lists, each already sorted in ascending order, and merge them into one sorted list.\n",
    "\n",
    "Input:\n",
    "\n",
    "Two lists, list1 and list2, both of which are sorted in ascending order.\n",
    "Output:\n",
    "\n",
    "A single list containing all the elements from list1 and list2, sorted in ascending order.\n",
    "\n",
    "merge_sorted_lists([1, 3, 5], [2, 4, 6])    # Output: [1, 2, 3, 4, 5, 6]\n",
    "\r\n",
    "merge_sorted_lists([1, 2, 3], [4, 5, 6])    # Output: [1, 2, 3, 4, 5, 6\n",
    "]\r\n",
    "merge_sorted_lists([1, 3, 5], [2, 4, 6, 7    ) # Output: [1, 2, 3, 4, 5, 6, \n",
    "7]\r\n",
    "merge_sorted_lists([], [1, 2,        # Output: [1, 2,\n",
    " 3]\r\n",
    "merge_sorted_lists([1, 2, 3],        # Output: [1, 2\n",
    "\n",
    "\n",
    "Hints:\n",
    "\n",
    "Two Pointers Technique: Consider using two pointers to iterate through both lists and merge them efficiently.\n",
    "\n",
    "Appending Elements: Append the smaller element from the two lists to the result list and move the corresponding pointer.\n",
    "\n",
    "Challenge:\n",
    "Implement the function with a time complexity of \n",
    "𝑂\n",
    "(\n",
    "𝑛\n",
    "+\n",
    "𝑚\n",
    ")\n",
    "O(n+m), where \n",
    "𝑛\n",
    "n and \n",
    "𝑚\n",
    "m are the lengths of the two lists., 3]\r\n"
   ]
  },
  {
   "cell_type": "code",
   "execution_count": 6,
   "id": "b443cf10-3ab7-4ad8-8aa3-63215e5e486e",
   "metadata": {},
   "outputs": [],
   "source": [
    "def merge_sorted_lists(list1: list, list2: list) -> list:\n",
    "    i,j = 0,0\n",
    "\n",
    "    merged_list = []\n",
    "\n",
    "    while i < len(list1) and j < len(list2):\n",
    "        if list1[i] < list2[j]:\n",
    "            merged_list.append(list1[i])\n",
    "            i += 1\n",
    "        else:\n",
    "            merged_list.append(list2[j])\n",
    "            j += 1\n",
    "\n",
    "    while i < len(list1):\n",
    "        merged_list.append(list1[i])\n",
    "        i += 1\n",
    "\n",
    "    while j < len(list2):\n",
    "        merged_list.append(list2[j])\n",
    "        j += 1\n",
    "\n",
    "    return merged_list\n",
    "    "
   ]
  },
  {
   "cell_type": "code",
   "execution_count": 7,
   "id": "b6132223-ff07-40da-9646-82e1acc50b10",
   "metadata": {},
   "outputs": [
    {
     "name": "stdout",
     "output_type": "stream",
     "text": [
      "[1, 2, 3, 4, 5, 6]\n",
      "[1, 2, 3, 4, 5, 6]\n",
      "[1, 2, 3, 4, 5, 6, 7]\n",
      "[1, 2, 3]\n",
      "[1, 2, 3]\n"
     ]
    }
   ],
   "source": [
    "print(merge_sorted_lists([1, 3, 5], [2, 4, 6]))\n",
    "print(merge_sorted_lists([1, 2, 3], [4, 5, 6]))\n",
    "print(merge_sorted_lists([1, 3, 5], [2, 4, 6, 7]))\n",
    "print(merge_sorted_lists([], [1, 2, 3]))\n",
    "print(merge_sorted_lists([1, 2, 3], []))"
   ]
  },
  {
   "cell_type": "code",
   "execution_count": null,
   "id": "cfd402f4-6131-40d4-b8b2-a0c7d35ec624",
   "metadata": {},
   "outputs": [],
   "source": []
  }
 ],
 "metadata": {
  "kernelspec": {
   "display_name": "Python 3 (ipykernel)",
   "language": "python",
   "name": "python3"
  },
  "language_info": {
   "codemirror_mode": {
    "name": "ipython",
    "version": 3
   },
   "file_extension": ".py",
   "mimetype": "text/x-python",
   "name": "python",
   "nbconvert_exporter": "python",
   "pygments_lexer": "ipython3",
   "version": "3.12.4"
  }
 },
 "nbformat": 4,
 "nbformat_minor": 5
}
