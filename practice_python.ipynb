{
 "cells": [
  {
   "cell_type": "markdown",
   "id": "9a8c8154-6f71-4872-8d49-81dc90852226",
   "metadata": {},
   "source": [
    "Problem: Anagram Checker\n",
    "\n",
    "\n",
    "Objective:\n",
    "Write a Python function to check if two given strings are anagrams of each other. Two strings are anagrams if they contain the same characters in the same frequencies, but possibly in a different order.\n",
    "\n",
    "Input:\n",
    "\n",
    "Two strings, str1 and str2, containing only lowercase alphabets.\n",
    "Output:\n",
    "\n",
    "Return True if str1 and str2 are anagrams of each other; otherwise, return False.\n",
    "\n",
    "Examples:\n",
    "\n",
    "are_anagrams(\"listen\", \"silent\")  # Output: True\n",
    "\r\n",
    "are_anagrams(\"hello\", \"world\")    # Output: Fals\n",
    "\n",
    "Hints:\n",
    "\n",
    "You can use Python's built-in functions to sort the strings and compare them.\n",
    "\n",
    "Another approach is to use dictionaries to count the frequency of each character.\n",
    "\n",
    "Challenge:\n",
    "Try solving this problem using both methods mentioned in the hints.\n",
    "alse\r\n"
   ]
  },
  {
   "cell_type": "code",
   "execution_count": 6,
   "id": "0ab08468-bffb-4bf7-aa6b-4bcb82c13c1e",
   "metadata": {},
   "outputs": [],
   "source": [
    "def are_anagrams(str1: str, str2: str) -> bool:\n",
    "    temp = ''\n",
    "    if :\n",
    "        return True\n",
    "    else:\n",
    "        return False"
   ]
  },
  {
   "cell_type": "code",
   "execution_count": 8,
   "id": "cd7a4f6a-4a7f-42d7-8d78-3cd04927c2e7",
   "metadata": {},
   "outputs": [
    {
     "data": {
      "text/plain": [
       "True"
      ]
     },
     "execution_count": 8,
     "metadata": {},
     "output_type": "execute_result"
    }
   ],
   "source": [
    "are_anagrams(\"listen\", \"silent\")\n"
   ]
  },
  {
   "cell_type": "code",
   "execution_count": 9,
   "id": "7b8e0043-f308-4da8-813c-e232f183f6f2",
   "metadata": {},
   "outputs": [
    {
     "data": {
      "text/plain": [
       "False"
      ]
     },
     "execution_count": 9,
     "metadata": {},
     "output_type": "execute_result"
    }
   ],
   "source": [
    "are_anagrams(\"hello\", \"world\") "
   ]
  },
  {
   "cell_type": "code",
   "execution_count": 15,
   "id": "ba611202-bdcf-4fb6-a2c8-c5a20b6b315e",
   "metadata": {},
   "outputs": [],
   "source": [
    "def bubble_sort(s : str) -> str:\n",
    "    char_list = list(s)\n",
    "    n = len(char_list)\n",
    "    for i in range(n):\n",
    "        for j in range(0, n - i - 1):\n",
    "            if char_list[j] > char_list[j+1]:\n",
    "                char_list[j], char_list[j+1] = char_list[j+1], char_list[j]\n",
    "    return ''.join(char_list)\n",
    "    \n",
    "def are_anagrams(str1: str, str2: str) -> bool:\n",
    "    \n",
    "    return bubble_sort(str1) == bubble_sort(str2)"
   ]
  },
  {
   "cell_type": "code",
   "execution_count": 16,
   "id": "60796061-677d-4a5d-a23a-6c843ac9998d",
   "metadata": {},
   "outputs": [
    {
     "data": {
      "text/plain": [
       "False"
      ]
     },
     "execution_count": 16,
     "metadata": {},
     "output_type": "execute_result"
    }
   ],
   "source": [
    "are_anagrams(\"hello\", \"world\") "
   ]
  },
  {
   "cell_type": "code",
   "execution_count": 17,
   "id": "a3b12b49-1244-4940-8ecd-ecdf368a91ee",
   "metadata": {},
   "outputs": [
    {
     "data": {
      "text/plain": [
       "True"
      ]
     },
     "execution_count": 17,
     "metadata": {},
     "output_type": "execute_result"
    }
   ],
   "source": [
    "are_anagrams(\"listen\", \"silent\")\n"
   ]
  },
  {
   "cell_type": "code",
   "execution_count": 19,
   "id": "202b3f24-2c41-44c2-a6d0-c133295d73c7",
   "metadata": {},
   "outputs": [],
   "source": [
    "def are_anagrams(str1: str, str2: str) -> bool:\n",
    "    if len(str1) != len(str2):\n",
    "        return False\n",
    "\n",
    "    dic_str1 = {}\n",
    "    dic_str2 = {}\n",
    "\n",
    "    for char in str1:\n",
    "        if char in dic_str1:\n",
    "            dic_str1[char] += 1\n",
    "        else:\n",
    "            dic_str1[char] = 1\n",
    "\n",
    "    for char in str1:\n",
    "        if char in dic_str2:\n",
    "            dic_str2[char] += 1\n",
    "        else:\n",
    "            dic_str2[char] = 1\n",
    "\n",
    "    return dic_str1 == dic_str2"
   ]
  },
  {
   "cell_type": "code",
   "execution_count": 22,
   "id": "1a74e1ca-4279-42dc-be77-be6a760b0e1b",
   "metadata": {},
   "outputs": [
    {
     "data": {
      "text/plain": [
       "True"
      ]
     },
     "execution_count": 22,
     "metadata": {},
     "output_type": "execute_result"
    }
   ],
   "source": [
    "are_anagrams(\"listen\", \"silent\")"
   ]
  },
  {
   "cell_type": "markdown",
   "id": "1691d96d-5876-4ee8-b385-34b47269bcba",
   "metadata": {},
   "source": [
    "Problem: Fibonacci Sequence Generator\n",
    "\n",
    "Objective:\n",
    "\n",
    "Write a Python function that generates the first n numbers in the Fibonacci sequence. The Fibonacci sequence is a series of numbers in which each number (after the first two) is the sum of the two preceding ones. The sequence typically starts with 0 and 1.\n",
    "\n",
    "Input:\n",
    "\n",
    "An integer n (where n >= 0) representing the number of Fibonacci numbers to generate.\n",
    "Output:\n",
    "\n",
    "A list containing the first n numbers in the Fibonacci sequence.\n",
    "\n",
    "Examples:\n",
    "\n",
    "generate_fibonacci(10) # Output: [0, 1, 1, 2, 3, 5, 8, 13, 21, 34]\n"
   ]
  },
  {
   "cell_type": "code",
   "execution_count": 28,
   "id": "a8951265-e1cb-414f-b996-70b28d23ac13",
   "metadata": {},
   "outputs": [],
   "source": [
    "# Iterative Approach\n",
    "\n",
    "\n",
    "def generate_fibonacci(n: int) -> list:\n",
    "    if n <= 0:\n",
    "        return []\n",
    "    \n",
    "    fibo_list = [0,1]\n",
    "\n",
    "    for i in range(n):\n",
    "        fibo_list.append(fibo_list[-1] + fibo_list[-2])\n",
    "    \n",
    "    return fibo_list[:n]"
   ]
  },
  {
   "cell_type": "code",
   "execution_count": 29,
   "id": "6395d9d2-f99a-4aa9-a4bc-36062b2795b7",
   "metadata": {},
   "outputs": [
    {
     "data": {
      "text/plain": [
       "[]"
      ]
     },
     "execution_count": 29,
     "metadata": {},
     "output_type": "execute_result"
    }
   ],
   "source": [
    "generate_fibonacci(0)"
   ]
  },
  {
   "cell_type": "code",
   "execution_count": 30,
   "id": "85ac305f-7a04-446d-a581-4dd4786bb299",
   "metadata": {},
   "outputs": [
    {
     "data": {
      "text/plain": [
       "[0]"
      ]
     },
     "execution_count": 30,
     "metadata": {},
     "output_type": "execute_result"
    }
   ],
   "source": [
    "generate_fibonacci(1)"
   ]
  },
  {
   "cell_type": "code",
   "execution_count": 31,
   "id": "bd5bb287-99d2-4c5d-bb38-85365cf29d07",
   "metadata": {},
   "outputs": [
    {
     "data": {
      "text/plain": [
       "[0, 1, 1, 2, 3, 5, 8, 13, 21, 34]"
      ]
     },
     "execution_count": 31,
     "metadata": {},
     "output_type": "execute_result"
    }
   ],
   "source": [
    "generate_fibonacci(10)"
   ]
  },
  {
   "cell_type": "code",
   "execution_count": 37,
   "id": "779108d8-3d41-47f5-81cf-ba9df52b6255",
   "metadata": {},
   "outputs": [],
   "source": [
    "# Recursive Approach\n",
    "def fibo(n:int) -> int:\n",
    "    if n <= 0:\n",
    "        return 0\n",
    "    elif n == 1:\n",
    "        return 1\n",
    "    else:\n",
    "        return fibo(n-1) + fibo(n-2)\n",
    "        \n",
    "def generate_fibonacci(n: int) -> list:\n",
    "    return [fibo(i) for i in range(n)]\n",
    "\n",
    "    \n",
    "    "
   ]
  },
  {
   "cell_type": "code",
   "execution_count": 38,
   "id": "5d92e1fa-6786-4b5e-85ba-3e656ca6afa2",
   "metadata": {},
   "outputs": [
    {
     "data": {
      "text/plain": [
       "[0, 1, 1, 2, 3, 5, 8, 13, 21, 34]"
      ]
     },
     "execution_count": 38,
     "metadata": {},
     "output_type": "execute_result"
    }
   ],
   "source": [
    "generate_fibonacci(10)"
   ]
  },
  {
   "cell_type": "markdown",
   "id": "c9a4f35c-31b8-49bc-8f54-8b891f2d681e",
   "metadata": {},
   "source": [
    "Problem: Palindrome Checker\n",
    "\n",
    "\n",
    "Objective:\n",
    "\n",
    "\n",
    "Write a Python function that checks whether a given string is a palindrome. A palindrome is a string that reads the same backward as forward, ignoring spaces, punctuation, and case differences.\n",
    "\n",
    "Input:\n",
    "\n",
    "A string s (may include spaces, punctuation, and mixed case).\n",
    "Output:\n",
    "\n",
    "A boolean value True if the string is a palindrome, and False otherwise.\n",
    "\n",
    "Hints:\n",
    "\n",
    "Normalization: Convert the string to lowercase and remove non-alphanumeric characters.\n",
    "\n",
    "Comparison: Check if the cleaned string reads the same forward and backward.\n",
    "\n",
    "Challenge:\n",
    "\n",
    "Implement the function considering edge cases such as empty strings or strings with only non-alphanumeric characters.\n",
    "\n",
    "is_palindrome(\"A man, a plan, a canal, Panama\")  # Output: True\n",
    "\n",
    "is_palindrome(\"No 'x' in Nixon\")                 # Output: True\n",
    "\n",
    "is_palindrome(\"Hello, World!\")                    # Output: False"
   ]
  },
  {
   "cell_type": "code",
   "execution_count": 44,
   "id": "456c6c97-72f7-4d47-ac17-f66b6f01147b",
   "metadata": {},
   "outputs": [],
   "source": [
    "import re\n",
    "\n",
    "def is_palindrome(s: str) -> bool:\n",
    "\n",
    "    s = s.lower()\n",
    "    cleaned_str = re.sub(r'[^a-z0-9]','', s)\n",
    "\n",
    "    return cleaned_str == cleaned_str[::-1]\n"
   ]
  },
  {
   "cell_type": "code",
   "execution_count": 45,
   "id": "42ac4e1e-752d-419a-8f43-974843e490f3",
   "metadata": {},
   "outputs": [
    {
     "data": {
      "text/plain": [
       "True"
      ]
     },
     "execution_count": 45,
     "metadata": {},
     "output_type": "execute_result"
    }
   ],
   "source": [
    "is_palindrome(\"A man, a plan, a canal, Panama\")"
   ]
  },
  {
   "cell_type": "code",
   "execution_count": 46,
   "id": "000ffe62-15d0-49ab-affd-fa916d71031b",
   "metadata": {},
   "outputs": [
    {
     "data": {
      "text/plain": [
       "True"
      ]
     },
     "execution_count": 46,
     "metadata": {},
     "output_type": "execute_result"
    }
   ],
   "source": [
    "is_palindrome(\"No 'x' in Nixon\") "
   ]
  },
  {
   "cell_type": "code",
   "execution_count": 47,
   "id": "c0ad2c8c-0dc3-4b4a-b299-6a968a847863",
   "metadata": {},
   "outputs": [
    {
     "data": {
      "text/plain": [
       "False"
      ]
     },
     "execution_count": 47,
     "metadata": {},
     "output_type": "execute_result"
    }
   ],
   "source": [
    "is_palindrome(\"Hello, World!\") "
   ]
  },
  {
   "cell_type": "code",
   "execution_count": null,
   "id": "bd20b9f5-b0d9-4e5a-b968-da42f4c855c9",
   "metadata": {},
   "outputs": [],
   "source": []
  }
 ],
 "metadata": {
  "kernelspec": {
   "display_name": "Python 3 (ipykernel)",
   "language": "python",
   "name": "python3"
  },
  "language_info": {
   "codemirror_mode": {
    "name": "ipython",
    "version": 3
   },
   "file_extension": ".py",
   "mimetype": "text/x-python",
   "name": "python",
   "nbconvert_exporter": "python",
   "pygments_lexer": "ipython3",
   "version": "3.12.4"
  }
 },
 "nbformat": 4,
 "nbformat_minor": 5
}
