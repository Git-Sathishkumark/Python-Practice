{
 "cells": [
  {
   "cell_type": "markdown",
   "id": "90ceabf9-a556-45f5-b1f4-343706ca4f37",
   "metadata": {},
   "source": [
    "Problem: Palindrome Checker\n",
    "\n",
    "\n",
    "Objective:\n",
    "\n",
    "\n",
    "Write a Python function that checks whether a given string is a palindrome. A palindrome is a string that reads the same backward as forward, ignoring spaces, punctuation, and case differences.\n",
    "\n",
    "Input:\n",
    "\n",
    "A string s (may include spaces, punctuation, and mixed case).\n",
    "Output:\n",
    "\n",
    "A boolean value True if the string is a palindrome, and False otherwise.\n",
    "\n",
    "Hints:\n",
    "\n",
    "Normalization: Convert the string to lowercase and remove non-alphanumeric characters.\n",
    "\n",
    "Comparison: Check if the cleaned string reads the same forward and backward.\n",
    "\n",
    "Challenge:\n",
    "\n",
    "Implement the function considering edge cases such as empty strings or strings with only non-alphanumeric characters.\n",
    "\n",
    "is_palindrome(\"A man, a plan, a canal, Panama\")  # Output: True\n",
    "\n",
    "is_palindrome(\"No 'x' in Nixon\")                 # Output: True\n",
    "\n",
    "is_palindrome(\"Hello, World!\")                    # Output: False"
   ]
  },
  {
   "cell_type": "code",
   "execution_count": 1,
   "id": "1c4ced3f-6edb-4458-8ffd-f74e4a025f84",
   "metadata": {},
   "outputs": [],
   "source": [
    "import re\n",
    "\n",
    "def is_palindrome(s: str) -> bool:\n",
    "\n",
    "    s = s.lower()\n",
    "    cleaned_str = re.sub(r'[^a-z0-9]','', s)\n",
    "\n",
    "    return cleaned_str == cleaned_str[::-1]\n"
   ]
  },
  {
   "cell_type": "code",
   "execution_count": 2,
   "id": "6e251e5f-a8e4-469a-b6fe-966fc88accda",
   "metadata": {},
   "outputs": [
    {
     "data": {
      "text/plain": [
       "True"
      ]
     },
     "execution_count": 2,
     "metadata": {},
     "output_type": "execute_result"
    }
   ],
   "source": [
    "is_palindrome(\"A man, a plan, a canal, Panama\")"
   ]
  },
  {
   "cell_type": "code",
   "execution_count": 3,
   "id": "213b111e-fded-4b9d-b4ca-63affa8405c4",
   "metadata": {},
   "outputs": [
    {
     "data": {
      "text/plain": [
       "True"
      ]
     },
     "execution_count": 3,
     "metadata": {},
     "output_type": "execute_result"
    }
   ],
   "source": [
    "is_palindrome(\"No 'x' in Nixon\") "
   ]
  },
  {
   "cell_type": "code",
   "execution_count": 4,
   "id": "ae273236-b552-4ba5-897a-c6fb7b2a6e79",
   "metadata": {},
   "outputs": [
    {
     "data": {
      "text/plain": [
       "False"
      ]
     },
     "execution_count": 4,
     "metadata": {},
     "output_type": "execute_result"
    }
   ],
   "source": [
    "is_palindrome(\"Hello, World!\") "
   ]
  },
  {
   "cell_type": "code",
   "execution_count": null,
   "id": "2a1eb7c1-1cfc-4048-8865-fbf3fee5689d",
   "metadata": {},
   "outputs": [],
   "source": []
  }
 ],
 "metadata": {
  "kernelspec": {
   "display_name": "Python 3 (ipykernel)",
   "language": "python",
   "name": "python3"
  },
  "language_info": {
   "codemirror_mode": {
    "name": "ipython",
    "version": 3
   },
   "file_extension": ".py",
   "mimetype": "text/x-python",
   "name": "python",
   "nbconvert_exporter": "python",
   "pygments_lexer": "ipython3",
   "version": "3.12.4"
  }
 },
 "nbformat": 4,
 "nbformat_minor": 5
}
