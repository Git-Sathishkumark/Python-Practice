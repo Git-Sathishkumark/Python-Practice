{
 "cells": [
  {
   "cell_type": "markdown",
   "id": "a3f48066-0914-48bb-b881-d83b10c19220",
   "metadata": {},
   "source": [
    "Problem: Find the Second Largest Number in a List\n",
    "\n",
    "Objective:\n",
    "\n",
    "Write a Python function that finds the second largest unique number in a given list of integers. \n",
    "If the list has fewer than two unique numbers, the function should return None.\n",
    "\n",
    "Input:\n",
    "\n",
    "A list numbers of integers.\n",
    "Output:\n",
    "\n",
    "The second largest unique integer in the list. If there is no second largest unique integer, return None.\n",
    "\n",
    "second_largest([1, 2, 3, 4, 5])     # Output: 4\n",
    "\n",
    "second_largest([5, 5, 5, 5])        # Output: None\n",
    "\n",
    "second_largest([2, 3, 1, 4, 4, 5])  # Output: 4\n",
    "\n",
    "second_largest([1])                 # Output: None\n",
    "\n",
    "second_largest([-1, -2, -3, -4])    # Output: -2\n",
    "\n",
    "second_largest([3, 3, 2, 2, 1, 1])  # Output: 2\n",
    "\n",
    "Hints:\n",
    "\n",
    "Unique Values: Consider using a set to filter out duplicate values.\n",
    "\n",
    "Sorting or Maximum: After filtering out duplicates, you can either sort the list or find the largest and second-largest values using a loop.\n",
    "Challenge:\n",
    "\n",
    "Try solving the problem without sorting the entire list to improve efficiency.\n"
   ]
  },
  {
   "cell_type": "code",
   "execution_count": 3,
   "id": "dc675407-2f43-4c9d-bfea-59d1b395adb1",
   "metadata": {},
   "outputs": [],
   "source": [
    "def second_largest(numbers: list) -> int:\n",
    "    unique_number = set(numbers)\n",
    "\n",
    "    if len(numbers) < 2:\n",
    "        return None\n",
    "\n",
    "    largest_number = float('-inf')\n",
    "    second_largest = float('-inf')\n",
    "\n",
    "    for number in unique_number:\n",
    "        if number > largest_number:\n",
    "            second_largest = largest_number\n",
    "            largest_number = number\n",
    "\n",
    "        elif number > second_largest and number < largest_number:\n",
    "            second_largest = number\n",
    "\n",
    "    return second_largest if second_largest != float('-inf') else None\n",
    "    "
   ]
  },
  {
   "cell_type": "code",
   "execution_count": 4,
   "id": "4711b069-4dfb-4c08-bfa5-0b60a57e98f4",
   "metadata": {},
   "outputs": [
    {
     "name": "stdout",
     "output_type": "stream",
     "text": [
      "4\n",
      "None\n",
      "4\n",
      "None\n",
      "-2\n",
      "2\n"
     ]
    }
   ],
   "source": [
    "print(second_largest([1, 2, 3, 4, 5]))     \n",
    "print(second_largest([5, 5, 5, 5]))        \n",
    "print(second_largest([2, 3, 1, 4, 4, 5]))  \n",
    "print(second_largest([1]))                 \n",
    "print(second_largest([-1, -2, -3, -4]))    \n",
    "print(second_largest([3, 3, 2, 2, 1, 1]))  "
   ]
  },
  {
   "cell_type": "code",
   "execution_count": null,
   "id": "b42f397d-2aaf-40a3-a316-8abf37336974",
   "metadata": {},
   "outputs": [],
   "source": []
  }
 ],
 "metadata": {
  "kernelspec": {
   "display_name": "Python 3 (ipykernel)",
   "language": "python",
   "name": "python3"
  },
  "language_info": {
   "codemirror_mode": {
    "name": "ipython",
    "version": 3
   },
   "file_extension": ".py",
   "mimetype": "text/x-python",
   "name": "python",
   "nbconvert_exporter": "python",
   "pygments_lexer": "ipython3",
   "version": "3.12.4"
  }
 },
 "nbformat": 4,
 "nbformat_minor": 5
}
