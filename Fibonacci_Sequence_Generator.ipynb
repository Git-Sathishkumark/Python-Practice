{
 "cells": [
  {
   "cell_type": "markdown",
   "id": "6e7277e3-b018-4057-801e-c8ab97034f99",
   "metadata": {},
   "source": [
    "Problem: Fibonacci Sequence Generator\r\n",
    "\r\n",
    "Objective:\r\n",
    "\r\n",
    "Write a Python function that generates the first n numbers in the Fibonacci sequence. The Fibonacci sequence is a series of numbers in which each number (after the first two) is the sum of the two preceding ones. The sequence typically starts with 0 and 1.\r\n",
    "\r\n",
    "Input:\r\n",
    "\r\n",
    "An integer n (where n >= 0) representing the number of Fibonacci numbers to generate. Output:\r\n",
    "\r\n",
    "A list containing the first n numbers in the Fibonacci sequence.\r\n",
    "\r\n",
    "Examples:\r\n",
    "\r\n",
    "generate_fibonacci(10) # Output: [0, 1, 1, 2, 3, 5, 8, 13, 21, 34]"
   ]
  },
  {
   "cell_type": "code",
   "execution_count": 2,
   "id": "db6eb6b1-2ff5-4b20-aa4e-5b51c5cb09fe",
   "metadata": {},
   "outputs": [],
   "source": [
    "# Iterative Approach\n",
    "\n",
    "\n",
    "def generate_fibonacci1(n: int) -> list:\n",
    "    if n <= 0:\n",
    "        return []\n",
    "    \n",
    "    fibo_list = [0,1]\n",
    "\n",
    "    for i in range(n):\n",
    "        fibo_list.append(fibo_list[-1] + fibo_list[-2])\n",
    "    \n",
    "    return fibo_list[:n]"
   ]
  },
  {
   "cell_type": "code",
   "execution_count": 3,
   "id": "6c5b7fda-8163-481a-91d3-5d0327796f34",
   "metadata": {},
   "outputs": [
    {
     "data": {
      "text/plain": [
       "[0, 1, 1, 2, 3, 5, 8, 13, 21, 34]"
      ]
     },
     "execution_count": 3,
     "metadata": {},
     "output_type": "execute_result"
    }
   ],
   "source": [
    "generate_fibonacci1(10)"
   ]
  },
  {
   "cell_type": "code",
   "execution_count": 4,
   "id": "a943373d-bf94-4f05-a98e-c13418b1838f",
   "metadata": {},
   "outputs": [],
   "source": [
    "# Recursive Approach\n",
    "def fibo(n:int) -> int:\n",
    "    if n <= 0:\n",
    "        return 0\n",
    "    elif n == 1:\n",
    "        return 1\n",
    "    else:\n",
    "        return fibo(n-1) + fibo(n-2)\n",
    "        \n",
    "def generate_fibonacci2(n: int) -> list:\n",
    "    return [fibo(i) for i in range(n)]\n"
   ]
  },
  {
   "cell_type": "code",
   "execution_count": 5,
   "id": "1b411fc8-7c75-4c99-8185-01c618d4e95a",
   "metadata": {},
   "outputs": [
    {
     "data": {
      "text/plain": [
       "[0, 1, 1, 2, 3, 5, 8, 13, 21, 34]"
      ]
     },
     "execution_count": 5,
     "metadata": {},
     "output_type": "execute_result"
    }
   ],
   "source": [
    "generate_fibonacci(10)"
   ]
  },
  {
   "cell_type": "code",
   "execution_count": null,
   "id": "4a04c38a-73f3-49af-8e62-db5c8e8929c8",
   "metadata": {},
   "outputs": [],
   "source": []
  }
 ],
 "metadata": {
  "kernelspec": {
   "display_name": "Python 3 (ipykernel)",
   "language": "python",
   "name": "python3"
  },
  "language_info": {
   "codemirror_mode": {
    "name": "ipython",
    "version": 3
   },
   "file_extension": ".py",
   "mimetype": "text/x-python",
   "name": "python",
   "nbconvert_exporter": "python",
   "pygments_lexer": "ipython3",
   "version": "3.12.4"
  }
 },
 "nbformat": 4,
 "nbformat_minor": 5
}
